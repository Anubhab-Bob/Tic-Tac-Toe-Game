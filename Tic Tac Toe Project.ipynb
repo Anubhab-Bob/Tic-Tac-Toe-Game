{
 "cells": [
  {
   "cell_type": "markdown",
   "metadata": {},
   "source": [
    "Import clear_output() to clear the screen after every move"
   ]
  },
  {
   "cell_type": "code",
   "execution_count": 1,
   "metadata": {},
   "outputs": [],
   "source": [
    "from IPython.display import clear_output"
   ]
  },
  {
   "cell_type": "markdown",
   "metadata": {},
   "source": [
    "The display_board() function takes in a list of the current marks on the board"
   ]
  },
  {
   "cell_type": "code",
   "execution_count": 2,
   "metadata": {},
   "outputs": [],
   "source": [
    "def display_board(board):\n",
    "    \n",
    "    # Clear the screen before displaying the new board setup\n",
    "    clear_output()\n",
    "    print(\"\\t\")\n",
    "    \n",
    "    # Display the board in a proper formatted manner\n",
    "    for i in range(1,len(board)-2,3):\n",
    "        print(\"\\t\\t|\\t\\t|\")\n",
    "        print(f\"\\t{board[i]}\\t|\\t{board[i+1]}\\t|\\t{board[i+2]}\")\n",
    "        print(\"\\t\\t|\\t\\t|\")\n",
    "        if(i < 7):\n",
    "            print(\"----------------------------------------------------\")\n",
    "    print(\"\\t\")"
   ]
  },
  {
   "cell_type": "markdown",
   "metadata": {},
   "source": [
    "The player_input() can take in a player input and assign their marker as 'X' or 'O'"
   ]
  },
  {
   "cell_type": "code",
   "execution_count": 3,
   "metadata": {},
   "outputs": [],
   "source": [
    "def player_input():\n",
    "    \n",
    "    # Initialise a variable p1 to hold the input of player 1 with blank\n",
    "    p1 = ' '\n",
    "    \n",
    "    # Accept the symbol until a valid input is received\n",
    "    while (p1 not in 'XO'):\n",
    "        p1 = input(\"Player 1, choose 'X' or 'O' : \")\n",
    "    \n",
    "    # Based of player 1's choice set symbol for player 2\n",
    "    if p1 == 'X':\n",
    "        p2 = 'O'\n",
    "    else:\n",
    "        p2 = 'X'\n",
    "        \n",
    "    # Return a tuple having the player symbols\n",
    "    return (p1, p2)"
   ]
  },
  {
   "cell_type": "markdown",
   "metadata": {},
   "source": [
    "The place_marker() function takes in the board list object, a marker ('X' or 'O'), and a desired position (number 1-9) and assigns it to the board"
   ]
  },
  {
   "cell_type": "code",
   "execution_count": 4,
   "metadata": {},
   "outputs": [],
   "source": [
    "def place_marker(board, marker, position):\n",
    "    board[position] = marker"
   ]
  },
  {
   "cell_type": "markdown",
   "metadata": {},
   "source": [
    "The win_check() function takes in a board and a mark ('X' or 'O') and then checks to see if that mark has won"
   ]
  },
  {
   "cell_type": "code",
   "execution_count": 5,
   "metadata": {},
   "outputs": [],
   "source": [
    "def win_check(board, mark):\n",
    "    \n",
    "    # Check all possible winning combinations\n",
    "    # Return True if any combination matches\n",
    "    if (board[1] == board[2] == board[3] == mark):\n",
    "        return True\n",
    "    elif (board[1] == board[5] == board[9] == mark):\n",
    "        return True\n",
    "    elif (board[3] == board[5] == board[7] == mark):\n",
    "        return True\n",
    "    elif (board[1] == board[4] == board[7] == mark):\n",
    "        return True\n",
    "    elif (board[2] == board[5] == board[8] == mark):\n",
    "        return True\n",
    "    elif (board[3] == board[6] == board[9] == mark):\n",
    "        return True\n",
    "    elif (board[4] == board[5] == board[6] == mark):\n",
    "        return True\n",
    "    elif (board[7] == board[8] == board[9] == mark):\n",
    "        return True\n",
    "    else:\n",
    "        # If none of the winning combinations match then return False\n",
    "        return False"
   ]
  },
  {
   "cell_type": "markdown",
   "metadata": {},
   "source": [
    "The space_check() function returns a boolean indicating whether a space on the board is freely available. It takes the board list object and a position and checks whether the position is available or preoccupied"
   ]
  },
  {
   "cell_type": "code",
   "execution_count": 6,
   "metadata": {},
   "outputs": [],
   "source": [
    "def space_check(board, position):\n",
    "    return (board[position] == ' ')"
   ]
  },
  {
   "cell_type": "markdown",
   "metadata": {},
   "source": [
    "The full_board_check() function checks if the board is full and returns a boolean value. True if full, False otherwise"
   ]
  },
  {
   "cell_type": "code",
   "execution_count": 7,
   "metadata": {},
   "outputs": [],
   "source": [
    "def full_board_check(board):\n",
    "    \n",
    "    # Invoke the space_check() function for each position of the board to check if it is blank\n",
    "    for pos in range(1,len(board)):\n",
    "        if(space_check(board, pos)):\n",
    "            return False\n",
    "        \n",
    "    # If none of the positions in the board is blank then return True    \n",
    "    return True"
   ]
  },
  {
   "cell_type": "markdown",
   "metadata": {},
   "source": [
    "The player_choice() function asks for a player's next position (as a number 1-9) and then uses the space_check() function to check if it's a free position. If it is, then return the position for later use"
   ]
  },
  {
   "cell_type": "code",
   "execution_count": 9,
   "metadata": {},
   "outputs": [],
   "source": [
    "def player_choice(p,board):\n",
    "    while True:\n",
    "        pos = int(input(f\"Player {p}, Enter next position : \"))\n",
    "        if (pos in range(1,10) and space_check(board,pos)):\n",
    "            return pos"
   ]
  },
  {
   "cell_type": "markdown",
   "metadata": {},
   "source": [
    "The replay() function asks the players if they want to play again and returns a boolean True if they do want to play again. False otherwise"
   ]
  },
  {
   "cell_type": "code",
   "execution_count": 10,
   "metadata": {},
   "outputs": [],
   "source": [
    "def replay():\n",
    "    choice = input('Do you want to play again? (Y/N) : ')\n",
    "    return (choice == 'Y' or choice == 'y')"
   ]
  },
  {
   "cell_type": "markdown",
   "metadata": {
    "collapsed": true
   },
   "source": [
    "This module basically calls the functions and runs the game"
   ]
  },
  {
   "cell_type": "code",
   "execution_count": null,
   "metadata": {},
   "outputs": [],
   "source": [
    "print('Welcome to Tic Tac Toe!')\n",
    "\n",
    "# Repeat as many times as players want to play\n",
    "while True:\n",
    "    \n",
    "    # Initialise the board list object with blanks\n",
    "    board = [' ']*10\n",
    "    \n",
    "    # Replace the blank at 1st position with another character so that it does not influence \n",
    "    # results of the various functions performing computations based on presence of blank\n",
    "    board[0] = '#'\n",
    "    \n",
    "    # Accept the symbols\n",
    "    player1, player2 = player_input()\n",
    "    \n",
    "    # Repeat until the game ends\n",
    "    while True:\n",
    "        \n",
    "        #Player 1 Turn\n",
    "        # Accept choice of position for player 1\n",
    "        pos_player1 = player_choice(1,board)\n",
    "        # Place Player 1's mark at the chosen position\n",
    "        place_marker(board, player1, pos_player1)\n",
    "        # Display the board setup after placing the mark\n",
    "        display_board(board)\n",
    "        \n",
    "        # Check if Player 1 has won the match and if so then terminate the match\n",
    "        if(win_check(board,player1)):\n",
    "            print(\"Congratulations! PLAYER 1 has won the game!\")\n",
    "            break\n",
    "        \n",
    "        # Check if the match is draw and if so then terminate the match\n",
    "        if (full_board_check(board)):\n",
    "            print(\"Match Draw!\")\n",
    "            break\n",
    "            \n",
    "        # Player2's Turn\n",
    "        # Accept choice of position for player 2\n",
    "        pos_player2 = player_choice(2,board)\n",
    "        # Place Player 2's mark at the chosen position\n",
    "        place_marker(board, player2, pos_player2)\n",
    "        # Display the board setup after placing the mark\n",
    "        display_board(board)\n",
    "\n",
    "        # Check if Player 2 has won the match and if so then terminate the match\n",
    "        if (win_check(board,player2)):\n",
    "            print(\"Congratulations! PLAYER 2 has won the game!\")\n",
    "            break\n",
    "        \n",
    "        # Check if the match is draw and if so then terminate the match\n",
    "        if (full_board_check(board)):\n",
    "            print(\"Match Draw!\")\n",
    "            break\n",
    "\n",
    "    # If players don't want to play any more then terminate the game\n",
    "    if not replay():\n",
    "        break\n",
    "        \n",
    "clear_output()\n",
    "print(\"\\nThank you for playing Tic-Tac-Toe\\n\")"
   ]
  }
 ],
 "metadata": {
  "kernelspec": {
   "display_name": "Python 3",
   "language": "python",
   "name": "python3"
  },
  "language_info": {
   "codemirror_mode": {
    "name": "ipython",
    "version": 3
   },
   "file_extension": ".py",
   "mimetype": "text/x-python",
   "name": "python",
   "nbconvert_exporter": "python",
   "pygments_lexer": "ipython3",
   "version": "3.7.7"
  }
 },
 "nbformat": 4,
 "nbformat_minor": 1
}
